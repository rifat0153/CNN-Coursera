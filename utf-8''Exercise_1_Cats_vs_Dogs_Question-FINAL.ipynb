{
 "cells": [
  {
   "cell_type": "code",
   "execution_count": 1,
   "metadata": {
    "colab": {},
    "colab_type": "code",
    "id": "dn-6c02VmqiN"
   },
   "outputs": [],
   "source": [
    "# ATTENTION: Please do not alter any of the provided code in the exercise. Only add your own code where indicated\n",
    "# ATTENTION: Please do not add or remove any cells in the exercise. The grader will check specific cells based on the cell position.\n",
    "# ATTENTION: Please use the provided epoch values when training.\n",
    "\n",
    "# In this exercise you will train a CNN on the FULL Cats-v-dogs dataset\n",
    "# This will require you doing a lot of data preprocessing because\n",
    "# the dataset isn't split into training and validation for you\n",
    "# This code block has all the required inputs\n",
    "import os\n",
    "import zipfile\n",
    "import random\n",
    "import tensorflow as tf\n",
    "import shutil\n",
    "from tensorflow.keras.optimizers import RMSprop\n",
    "from tensorflow.keras.preprocessing.image import ImageDataGenerator\n",
    "from shutil import copyfile\n",
    "from os import getcwd"
   ]
  },
  {
   "cell_type": "code",
   "execution_count": 2,
   "metadata": {
    "colab": {},
    "colab_type": "code",
    "id": "3sd9dQWa23aj"
   },
   "outputs": [],
   "source": [
    "path_cats_and_dogs = f\"{getcwd()}/../tmp2/cats-and-dogs.zip\"\n",
    "shutil.rmtree('/tmp')\n",
    "\n",
    "local_zip = path_cats_and_dogs\n",
    "zip_ref = zipfile.ZipFile(local_zip, 'r')\n",
    "zip_ref.extractall('/tmp')\n",
    "zip_ref.close()\n"
   ]
  },
  {
   "cell_type": "code",
   "execution_count": 3,
   "metadata": {
    "colab": {},
    "colab_type": "code",
    "id": "gi3yD62a6X3S"
   },
   "outputs": [
    {
     "name": "stdout",
     "output_type": "stream",
     "text": [
      "1500\n",
      "1500\n"
     ]
    }
   ],
   "source": [
    "print(len(os.listdir('/tmp/PetImages/Cat/')))\n",
    "print(len(os.listdir('/tmp/PetImages/Dog/')))\n",
    "\n",
    "# Expected Output:\n",
    "# 1500\n",
    "# 1500"
   ]
  },
  {
   "cell_type": "code",
   "execution_count": 4,
   "metadata": {
    "colab": {},
    "colab_type": "code",
    "id": "F-QkLjxpmyK2"
   },
   "outputs": [
    {
     "name": "stdout",
     "output_type": "stream",
     "text": [
      "['cats', 'dogs']\n"
     ]
    }
   ],
   "source": [
    "# Use os.mkdir to create your directories\n",
    "# You will need a directory for cats-v-dogs, and subdirectories for training\n",
    "# and testing. These in turn will need subdirectories for 'cats' and 'dogs'\n",
    "try:\n",
    "    #YOUR CODE GOES HERE\n",
    "    path = os.path.join('/tmp', 'cats-v-dogs') \n",
    "    os.mkdir(path)\n",
    "    \n",
    "    training = os.path.join(path, 'training') \n",
    "    os.mkdir(training)\n",
    "    \n",
    "    training_cat = os.path.join(training, 'cats') \n",
    "    os.mkdir(training_cat)\n",
    "    training_dog = os.path.join(training, 'dogs') \n",
    "    os.mkdir(training_dog)\n",
    "    \n",
    "    \n",
    "    testing = os.path.join(path, 'testing') \n",
    "    os.mkdir(testing)\n",
    "    \n",
    "    testing_cat = os.path.join(testing, 'cats') \n",
    "    os.mkdir(testing_cat)\n",
    "    testing_dog = os.path.join(testing, 'dogs') \n",
    "    os.mkdir(testing_dog)\n",
    "    \n",
    "    \n",
    "    l = os.listdir(testing)\n",
    "    print(l)\n",
    "    \n",
    "except OSError as e:\n",
    "    pass\n"
   ]
  },
  {
   "cell_type": "code",
   "execution_count": 7,
   "metadata": {
    "colab": {},
    "colab_type": "code",
    "id": "zvSODo0f9LaU",
    "scrolled": true
   },
   "outputs": [
    {
     "name": "stdout",
     "output_type": "stream",
     "text": [
      "TOTAL FILES  1500\n",
      "cat.2275.jpg\n",
      "cat.411.jpg\n",
      "1350\n",
      "cat.411.jpg\n",
      "/tmp/PetImages/Cat/cat.411.jpg\n",
      "11486\n",
      "cat.334.jpg\n",
      "/tmp/PetImages/Cat/cat.334.jpg\n",
      "13978\n",
      "cat.2276.jpg\n",
      "/tmp/PetImages/Cat/cat.2276.jpg\n",
      "10869\n",
      "cat.2110.jpg\n",
      "/tmp/PetImages/Cat/cat.2110.jpg\n",
      "7283\n",
      "cat.156.jpg\n",
      "/tmp/PetImages/Cat/cat.156.jpg\n",
      "17303\n",
      "cat.982.jpg\n",
      "/tmp/PetImages/Cat/cat.982.jpg\n",
      "30801\n",
      "cat.2476.jpg\n",
      "/tmp/PetImages/Cat/cat.2476.jpg\n",
      "43945\n",
      "cat.443.jpg\n",
      "/tmp/PetImages/Cat/cat.443.jpg\n",
      "27769\n",
      "cat.2223.jpg\n",
      "/tmp/PetImages/Cat/cat.2223.jpg\n",
      "17440\n",
      "cat.673.jpg\n",
      "/tmp/PetImages/Cat/cat.673.jpg\n",
      "4330\n",
      "TOTAL FILES  1500\n",
      "dog.335.jpg\n",
      "dog.157.jpg\n",
      "1350\n",
      "dog.157.jpg\n",
      "/tmp/PetImages/Dog/dog.157.jpg\n",
      "72529\n",
      "dog.677.jpg\n",
      "/tmp/PetImages/Dog/dog.677.jpg\n",
      "19483\n",
      "dog.2349.jpg\n",
      "/tmp/PetImages/Dog/dog.2349.jpg\n",
      "30166\n",
      "dog.477.jpg\n",
      "/tmp/PetImages/Dog/dog.477.jpg\n",
      "22240\n",
      "dog.2296.jpg\n",
      "/tmp/PetImages/Dog/dog.2296.jpg\n",
      "28350\n",
      "dog.2183.jpg\n",
      "/tmp/PetImages/Dog/dog.2183.jpg\n",
      "28658\n",
      "dog.718.jpg\n",
      "/tmp/PetImages/Dog/dog.718.jpg\n",
      "17430\n",
      "dog.497.jpg\n",
      "/tmp/PetImages/Dog/dog.497.jpg\n",
      "13797\n",
      "dog.329.jpg\n",
      "/tmp/PetImages/Dog/dog.329.jpg\n",
      "11440\n",
      "dog.2117.jpg\n",
      "/tmp/PetImages/Dog/dog.2117.jpg\n",
      "35041\n"
     ]
    }
   ],
   "source": [
    "# Write a python function called split_data which takes\n",
    "# a SOURCE directory containing the files\n",
    "# a TRAINING directory that a portion of the files will be copied to\n",
    "# a TESTING directory that a portion of the files will be copie to\n",
    "# a SPLIT SIZE to determine the portion\n",
    "# The files should also be randomized, so that the training set is a random\n",
    "# X% of the files, and the test set is the remaining files\n",
    "# SO, for example, if SOURCE is PetImages/Cat, and SPLIT SIZE is .9\n",
    "# Then 90% of the images in PetImages/Cat will be copied to the TRAINING dir\n",
    "# and 10% of the images will be copied to the TESTING dir\n",
    "# Also -- All images should be checked, and if they have a zero file length,\n",
    "# they will not be copied over\n",
    "#\n",
    "# os.listdir(DIRECTORY) gives you a listing of the contents of that directory\n",
    "# os.path.getsize(PATH) gives you the size of the file\n",
    "# copyfile(source, destination) copies a file from source to destination\n",
    "# random.sample(list, len(list)) shuffles a list\n",
    "def split_data(SOURCE, TRAINING, TESTING, SPLIT_SIZE):\n",
    "# YOUR CODE STARTS HERE\n",
    "    import random\n",
    "    from shutil import copy2\n",
    "    \n",
    "    fnames = os.listdir( SOURCE )\n",
    "    \n",
    "    print(\"TOTAL FILES \",len(fnames))\n",
    "    \n",
    "    print(fnames[0])\n",
    "    random.shuffle(fnames)\n",
    "    \n",
    "    print(fnames[0])\n",
    "    \n",
    "    \n",
    "    training_len = int(  len(fnames) * SPLIT_SIZE  )\n",
    "    print(training_len)\n",
    "\n",
    "    \n",
    "    \n",
    "    \n",
    "    for index in range(0, 10):\n",
    "        fn = fnames[index]\n",
    "        print(fn)\n",
    "        path = os.path.join(SOURCE, fn)\n",
    "        print(path)\n",
    "        s = os.path.getsize( path)\n",
    "        print(s)\n",
    "    \n",
    "    \n",
    "    \n",
    "    for index in range(0, training_len):\n",
    "        fn = fnames[index]\n",
    "        path = os.path.join(SOURCE, fn)\n",
    "        \n",
    "        if( os.path.getsize( path) <= 0 ):\n",
    "            pass\n",
    "        else:\n",
    "            copy2(path, TRAINING)\n",
    "    \n",
    "    for index in range(training_len, len(fnames)):\n",
    "        fn = fnames[index]\n",
    "        path = os.path.join(SOURCE, fn)\n",
    "        \n",
    "        if( os.path.getsize( path) <= 0 ):\n",
    "            pass\n",
    "        else:\n",
    "            copy2(path, TESTING)\n",
    "\n",
    "# YOUR CODE ENDS HERE\n",
    "\n",
    "\n",
    "CAT_SOURCE_DIR = \"/tmp/PetImages/Cat/\"\n",
    "TRAINING_CATS_DIR = \"/tmp/cats-v-dogs/training/cats/\"\n",
    "TESTING_CATS_DIR = \"/tmp/cats-v-dogs/testing/cats/\"\n",
    "DOG_SOURCE_DIR = \"/tmp/PetImages/Dog/\"\n",
    "TRAINING_DOGS_DIR = \"/tmp/cats-v-dogs/training/dogs/\"\n",
    "TESTING_DOGS_DIR = \"/tmp/cats-v-dogs/testing/dogs/\"\n",
    "\n",
    "split_size = .9\n",
    "split_data(CAT_SOURCE_DIR, TRAINING_CATS_DIR, TESTING_CATS_DIR, split_size)\n",
    "split_data(DOG_SOURCE_DIR, TRAINING_DOGS_DIR, TESTING_DOGS_DIR, split_size)"
   ]
  },
  {
   "cell_type": "code",
   "execution_count": 8,
   "metadata": {},
   "outputs": [
    {
     "name": "stdout",
     "output_type": "stream",
     "text": [
      "TOTAL FILES  1500\n",
      "['cat.2275.jpg', 'cat.2287.jpg', 'cat.40.jpg', 'cat.2047.jpg', 'cat.781.jpg', 'cat.801.jpg', 'cat.2426.jpg', 'cat.956.jpg', 'cat.196.jpg', 'cat.455.jpg']\n",
      "['cat.547.jpg', 'cat.79.jpg', 'cat.957.jpg', 'cat.401.jpg', 'cat.2494.jpg', 'cat.182.jpg', 'cat.2185.jpg', 'cat.2272.jpg', 'cat.2021.jpg', 'cat.2135.jpg']\n"
     ]
    }
   ],
   "source": [
    "fnames = os.listdir(CAT_SOURCE_DIR )    \n",
    "print(\"TOTAL FILES \",len(fnames))\n",
    "print(fnames[0:10])\n",
    "\n",
    "random.shuffle(fnames)\n",
    "\n",
    "print(fnames[0:10])"
   ]
  },
  {
   "cell_type": "code",
   "execution_count": 9,
   "metadata": {
    "colab": {},
    "colab_type": "code",
    "id": "luthalB76ufC"
   },
   "outputs": [
    {
     "name": "stdout",
     "output_type": "stream",
     "text": [
      "1350\n",
      "1350\n",
      "150\n",
      "150\n"
     ]
    }
   ],
   "source": [
    "print(len(os.listdir('/tmp/cats-v-dogs/training/cats/')))\n",
    "print(len(os.listdir('/tmp/cats-v-dogs/training/dogs/')))\n",
    "print(len(os.listdir('/tmp/cats-v-dogs/testing/cats/')))\n",
    "print(len(os.listdir('/tmp/cats-v-dogs/testing/dogs/')))\n",
    "\n",
    "# Expected output:\n",
    "# 1350\n",
    "# 1350\n",
    "# 150\n",
    "# 150"
   ]
  },
  {
   "cell_type": "code",
   "execution_count": 13,
   "metadata": {
    "colab": {},
    "colab_type": "code",
    "id": "-BQrav4anTmj"
   },
   "outputs": [],
   "source": [
    "# DEFINE A KERAS MODEL TO CLASSIFY CATS V DOGS\n",
    "# USE AT LEAST 3 CONVOLUTION LAYERS\n",
    "model = tf.keras.models.Sequential([\n",
    "# YOUR CODE HERE\n",
    "    tf.keras.layers.Conv2D(16, (3,3), activation='relu', input_shape=(150, 150, 3)),\n",
    "    tf.keras.layers.MaxPooling2D(2,2),\n",
    "    tf.keras.layers.Conv2D(32, (3,3), activation='relu'),\n",
    "    tf.keras.layers.MaxPooling2D(2,2), \n",
    "    tf.keras.layers.Conv2D(64, (3,3), activation='relu'), \n",
    "    tf.keras.layers.MaxPooling2D(2,2),\n",
    "    # Flatten the results to feed into a DNN\n",
    "    tf.keras.layers.Flatten(), \n",
    "    # 512 neuron hidden layer\n",
    "    tf.keras.layers.Dense(512, activation='relu'), \n",
    "    # Only 1 output neuron. It will contain a value from 0-1 where 0 for 1 class ('cats') and 1 for the other ('dogs')\n",
    "    tf.keras.layers.Dense(1, activation='sigmoid')  \n",
    "])\n",
    "\n",
    "model.compile(optimizer=RMSprop(lr=0.001), loss='binary_crossentropy', metrics=['acc'])"
   ]
  },
  {
   "cell_type": "markdown",
   "metadata": {},
   "source": [
    "# NOTE:\n",
    "\n",
    "In the cell below you **MUST** use a batch size of 10 (`batch_size=10`) for the `train_generator` and the `validation_generator`. Using a batch size greater than 10 will exceed memory limits on the Coursera platform."
   ]
  },
  {
   "cell_type": "code",
   "execution_count": 11,
   "metadata": {
    "colab": {},
    "colab_type": "code",
    "id": "mlNjoJ5D61N6"
   },
   "outputs": [
    {
     "name": "stdout",
     "output_type": "stream",
     "text": [
      "Found 2700 images belonging to 2 classes.\n",
      "Found 300 images belonging to 2 classes.\n"
     ]
    }
   ],
   "source": [
    "TRAINING_DIR = training\n",
    "#YOUR CODE HERE\n",
    "train_datagen = ImageDataGenerator( rescale = 1.0/255. )\n",
    "#YOUR CODE HERE\n",
    "\n",
    "# NOTE: YOU MUST USE A BATCH SIZE OF 10 (batch_size=10) FOR THE \n",
    "# TRAIN GENERATOR.\n",
    "train_generator = train_datagen.flow_from_directory(TRAINING_DIR,\n",
    "                                                    batch_size=10,\n",
    "                                                    class_mode='binary',\n",
    "                                                    target_size=(150, 150)) \n",
    "#YOUR CODE HERE\n",
    "\n",
    "VALIDATION_DIR = testing\n",
    "#YOUR CODE HERE\n",
    "validation_datagen = ImageDataGenerator( rescale = 1.0/255. )\n",
    "#YOUR CODE HERE\n",
    "\n",
    "# NOTE: YOU MUST USE A BACTH SIZE OF 10 (batch_size=10) FOR THE \n",
    "# VALIDATION GENERATOR.\n",
    "validation_generator = train_datagen.flow_from_directory(VALIDATION_DIR,\n",
    "                                                    batch_size=10,\n",
    "                                                    class_mode='binary',\n",
    "                                                    target_size=(150, 150)) \n",
    "#YOUR CODE HERE\n",
    "\n",
    "\n",
    "\n",
    "# Expected Output:\n",
    "# Found 2700 images belonging to 2 classes.\n",
    "# Found 300 images belonging to 2 classes."
   ]
  },
  {
   "cell_type": "code",
   "execution_count": null,
   "metadata": {
    "colab": {},
    "colab_type": "code",
    "id": "KyS4n53w7DxC"
   },
   "outputs": [
    {
     "name": "stdout",
     "output_type": "stream",
     "text": [
      "Epoch 1/2\n",
      "198/270 [=====================>........] - ETA: 13s - loss: 0.7208 - acc: 0.5581"
     ]
    }
   ],
   "source": [
    "history = model.fit_generator(train_generator,\n",
    "                              epochs=2,\n",
    "                              verbose=1,\n",
    "                              validation_data=validation_generator)\n"
   ]
  },
  {
   "cell_type": "code",
   "execution_count": null,
   "metadata": {
    "colab": {},
    "colab_type": "code",
    "id": "MWZrJN4-65RC"
   },
   "outputs": [],
   "source": [
    "# PLOT LOSS AND ACCURACY\n",
    "%matplotlib inline\n",
    "\n",
    "import matplotlib.image  as mpimg\n",
    "import matplotlib.pyplot as plt\n",
    "\n",
    "#-----------------------------------------------------------\n",
    "# Retrieve a list of list results on training and test data\n",
    "# sets for each training epoch\n",
    "#-----------------------------------------------------------\n",
    "acc=history.history['acc']\n",
    "val_acc=history.history['val_acc']\n",
    "loss=history.history['loss']\n",
    "val_loss=history.history['val_loss']\n",
    "\n",
    "epochs=range(len(acc)) # Get number of epochs\n",
    "\n",
    "#------------------------------------------------\n",
    "# Plot training and validation accuracy per epoch\n",
    "#------------------------------------------------\n",
    "plt.plot(epochs, acc, 'r', \"Training Accuracy\")\n",
    "plt.plot(epochs, val_acc, 'b', \"Validation Accuracy\")\n",
    "plt.title('Training and validation accuracy')\n",
    "plt.figure()\n",
    "\n",
    "#------------------------------------------------\n",
    "# Plot training and validation loss per epoch\n",
    "#------------------------------------------------\n",
    "plt.plot(epochs, loss, 'r', \"Training Loss\")\n",
    "plt.plot(epochs, val_loss, 'b', \"Validation Loss\")\n",
    "\n",
    "\n",
    "plt.title('Training and validation loss')\n",
    "\n",
    "# Desired output. Charts with training and validation metrics. No crash :)"
   ]
  },
  {
   "cell_type": "markdown",
   "metadata": {},
   "source": [
    "# Submission Instructions"
   ]
  },
  {
   "cell_type": "code",
   "execution_count": null,
   "metadata": {},
   "outputs": [],
   "source": [
    "# Now click the 'Submit Assignment' button above."
   ]
  },
  {
   "cell_type": "markdown",
   "metadata": {},
   "source": [
    "# When you're done or would like to take a break, please run the two cells below to save your work and close the Notebook. This will free up resources for your fellow learners. "
   ]
  },
  {
   "cell_type": "code",
   "execution_count": null,
   "metadata": {},
   "outputs": [],
   "source": [
    "%%javascript\n",
    "<!-- Save the notebook -->\n",
    "IPython.notebook.save_checkpoint();"
   ]
  },
  {
   "cell_type": "code",
   "execution_count": null,
   "metadata": {},
   "outputs": [],
   "source": [
    "%%javascript\n",
    "IPython.notebook.session.delete();\n",
    "window.onbeforeunload = null\n",
    "setTimeout(function() { window.close(); }, 1000);"
   ]
  }
 ],
 "metadata": {
  "accelerator": "GPU",
  "colab": {
   "collapsed_sections": [],
   "name": "Exercise 5 - Question.ipynb",
   "provenance": []
  },
  "coursera": {
   "course_slug": "convolutional-neural-networks-tensorflow",
   "graded_item_id": "laIUG",
   "launcher_item_id": "jjQWM"
  },
  "kernelspec": {
   "display_name": "Python 3",
   "language": "python",
   "name": "python3"
  },
  "language_info": {
   "codemirror_mode": {
    "name": "ipython",
    "version": 3
   },
   "file_extension": ".py",
   "mimetype": "text/x-python",
   "name": "python",
   "nbconvert_exporter": "python",
   "pygments_lexer": "ipython3",
   "version": "3.6.8"
  }
 },
 "nbformat": 4,
 "nbformat_minor": 1
}
